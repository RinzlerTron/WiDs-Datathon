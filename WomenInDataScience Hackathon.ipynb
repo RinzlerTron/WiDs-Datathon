{
 "cells": [
  {
   "cell_type": "markdown",
   "source": [
    "# Women In Data Science - Kaggle Competition \n",
    "\n",
    "\n",
    "## User ID: RinzlerTron ; Team: Songpyeon\n",
    "## Rank - #27 on Public Leaderboard and Rank #30 on Private Leaderboard\n",
    "\n",
    "https://www.kaggle.com/c/wids2018datathon"
   ],
   "metadata": {}
  },
  {
   "cell_type": "code",
   "execution_count": 1,
   "source": [
    "import numpy as np\n",
    "import pandas as pd\n",
    "import xgboost as xgb\n",
    "import warnings\n",
    "warnings.filterwarnings('ignore')\n",
    "#from fastai.imports import *\n",
    "#from fastai.structured import *\n",
    "from pandas_summary import DataFrameSummary\n",
    "%matplotlib inline \n",
    "import missingno as mn\n",
    "from sklearn.linear_model import LogisticRegression\n",
    "from catboost import *\n",
    "from fancyimpute import  KNN, NuclearNormMinimization, SoftImpute\n",
    "from sklearn.preprocessing import StandardScaler\n",
    "from sklearn.ensemble import RandomForestClassifier\n",
    "from sklearn.model_selection import RandomizedSearchCV"
   ],
   "outputs": [
    {
     "output_type": "stream",
     "name": "stderr",
     "text": [
      "Using TensorFlow backend.\n",
      "E:\\Other\\Anaconda3\\lib\\site-packages\\sklearn\\cross_validation.py:41: DeprecationWarning: This module was deprecated in version 0.18 in favor of the model_selection module into which all the refactored classes and functions are moved. Also note that the interface of the new CV iterators are different from that of this module. This module will be removed in 0.20.\n",
      "  \"This module will be removed in 0.20.\", DeprecationWarning)\n"
     ]
    }
   ],
   "metadata": {}
  },
  {
   "cell_type": "code",
   "execution_count": 90,
   "source": [
    "train = pd.read_csv(\"train.csv\")\n",
    "test = pd.read_csv(\"test.csv\")\n",
    "del train['train_id']\n",
    "id = test['test_id']\n",
    "del test['test_id']\n",
    "train.shape, test.shape"
   ],
   "outputs": [
    {
     "output_type": "execute_result",
     "data": {
      "text/plain": [
       "((18255, 1234), (27285, 1233))"
      ]
     },
     "metadata": {},
     "execution_count": 90
    }
   ],
   "metadata": {}
  },
  {
   "cell_type": "code",
   "execution_count": 91,
   "source": [
    "col = train.isnull().sum().sort_values(ascending = False)<0.99*train.shape[0]\n",
    "train = train.loc[:,col]\n",
    "train.head(3)"
   ],
   "outputs": [
    {
     "output_type": "execute_result",
     "data": {
      "text/plain": [
       "   AA3  AA4  AA5  AA6     AA7  AA14  AA15   DG1  is_female  DG3 ...   LN2_2  \\\n",
       "0    3   32  3.0  NaN  323011  3854   481  1975          1    3 ...       1   \n",
       "1    2   26  NaN  8.0  268131  2441   344  1981          1    8 ...       1   \n",
       "2    1   16  NaN  7.0  167581   754   143  1995          1    3 ...       1   \n",
       "\n",
       "   LN2_3  LN2_4  LN2_RIndLngBEOth  LN2_WIndLngBEOth   GN1  GN2  GN3  GN4  GN5  \n",
       "0      1      1               NaN               NaN  99.0   99   99   99   99  \n",
       "1      3      4           Bengali           Bengali   NaN    1    2    2    2  \n",
       "2      2      2             Hindi             Hindi   1.0    2    2    2    2  \n",
       "\n",
       "[3 rows x 700 columns]"
      ],
      "text/html": [
       "<div>\n",
       "<style>\n",
       "    .dataframe thead tr:only-child th {\n",
       "        text-align: right;\n",
       "    }\n",
       "\n",
       "    .dataframe thead th {\n",
       "        text-align: left;\n",
       "    }\n",
       "\n",
       "    .dataframe tbody tr th {\n",
       "        vertical-align: top;\n",
       "    }\n",
       "</style>\n",
       "<table border=\"1\" class=\"dataframe\">\n",
       "  <thead>\n",
       "    <tr style=\"text-align: right;\">\n",
       "      <th></th>\n",
       "      <th>AA3</th>\n",
       "      <th>AA4</th>\n",
       "      <th>AA5</th>\n",
       "      <th>AA6</th>\n",
       "      <th>AA7</th>\n",
       "      <th>AA14</th>\n",
       "      <th>AA15</th>\n",
       "      <th>DG1</th>\n",
       "      <th>is_female</th>\n",
       "      <th>DG3</th>\n",
       "      <th>...</th>\n",
       "      <th>LN2_2</th>\n",
       "      <th>LN2_3</th>\n",
       "      <th>LN2_4</th>\n",
       "      <th>LN2_RIndLngBEOth</th>\n",
       "      <th>LN2_WIndLngBEOth</th>\n",
       "      <th>GN1</th>\n",
       "      <th>GN2</th>\n",
       "      <th>GN3</th>\n",
       "      <th>GN4</th>\n",
       "      <th>GN5</th>\n",
       "    </tr>\n",
       "  </thead>\n",
       "  <tbody>\n",
       "    <tr>\n",
       "      <th>0</th>\n",
       "      <td>3</td>\n",
       "      <td>32</td>\n",
       "      <td>3.0</td>\n",
       "      <td>NaN</td>\n",
       "      <td>323011</td>\n",
       "      <td>3854</td>\n",
       "      <td>481</td>\n",
       "      <td>1975</td>\n",
       "      <td>1</td>\n",
       "      <td>3</td>\n",
       "      <td>...</td>\n",
       "      <td>1</td>\n",
       "      <td>1</td>\n",
       "      <td>1</td>\n",
       "      <td>NaN</td>\n",
       "      <td>NaN</td>\n",
       "      <td>99.0</td>\n",
       "      <td>99</td>\n",
       "      <td>99</td>\n",
       "      <td>99</td>\n",
       "      <td>99</td>\n",
       "    </tr>\n",
       "    <tr>\n",
       "      <th>1</th>\n",
       "      <td>2</td>\n",
       "      <td>26</td>\n",
       "      <td>NaN</td>\n",
       "      <td>8.0</td>\n",
       "      <td>268131</td>\n",
       "      <td>2441</td>\n",
       "      <td>344</td>\n",
       "      <td>1981</td>\n",
       "      <td>1</td>\n",
       "      <td>8</td>\n",
       "      <td>...</td>\n",
       "      <td>1</td>\n",
       "      <td>3</td>\n",
       "      <td>4</td>\n",
       "      <td>Bengali</td>\n",
       "      <td>Bengali</td>\n",
       "      <td>NaN</td>\n",
       "      <td>1</td>\n",
       "      <td>2</td>\n",
       "      <td>2</td>\n",
       "      <td>2</td>\n",
       "    </tr>\n",
       "    <tr>\n",
       "      <th>2</th>\n",
       "      <td>1</td>\n",
       "      <td>16</td>\n",
       "      <td>NaN</td>\n",
       "      <td>7.0</td>\n",
       "      <td>167581</td>\n",
       "      <td>754</td>\n",
       "      <td>143</td>\n",
       "      <td>1995</td>\n",
       "      <td>1</td>\n",
       "      <td>3</td>\n",
       "      <td>...</td>\n",
       "      <td>1</td>\n",
       "      <td>2</td>\n",
       "      <td>2</td>\n",
       "      <td>Hindi</td>\n",
       "      <td>Hindi</td>\n",
       "      <td>1.0</td>\n",
       "      <td>2</td>\n",
       "      <td>2</td>\n",
       "      <td>2</td>\n",
       "      <td>2</td>\n",
       "    </tr>\n",
       "  </tbody>\n",
       "</table>\n",
       "<p>3 rows × 700 columns</p>\n",
       "</div>"
      ]
     },
     "metadata": {},
     "execution_count": 91
    }
   ],
   "metadata": {}
  },
  {
   "cell_type": "code",
   "execution_count": 92,
   "source": [
    "index = col[(col == True)].index\n",
    "test = test.loc[:,index]\n",
    "del test['is_female']\n",
    "test.shape, train.shape"
   ],
   "outputs": [
    {
     "output_type": "execute_result",
     "data": {
      "text/plain": [
       "((27285, 699), (18255, 700))"
      ]
     },
     "metadata": {},
     "execution_count": 92
    }
   ],
   "metadata": {}
  },
  {
   "cell_type": "markdown",
   "source": [
    "### Convert all float into int"
   ],
   "metadata": {}
  },
  {
   "cell_type": "code",
   "execution_count": 93,
   "source": [
    "col2 = list(train.select_dtypes(include=['object']).columns)\n",
    "col2"
   ],
   "outputs": [
    {
     "output_type": "execute_result",
     "data": {
      "text/plain": [
       "['DL1_OTHERS',\n",
       " 'DL2_96_OTHERS',\n",
       " 'DL4_OTHERS',\n",
       " 'MM12_REC',\n",
       " 'FL9A_OTHERS',\n",
       " 'FB19_6_OTHERS',\n",
       " 'LN2_RIndLngBEOth',\n",
       " 'LN2_WIndLngBEOth']"
      ]
     },
     "metadata": {},
     "execution_count": 93
    }
   ],
   "metadata": {}
  },
  {
   "cell_type": "code",
   "execution_count": 94,
   "source": [
    "train.loc[:,col2] = train.loc[:,col2].fillna(\"missing\")\n",
    "test.loc[:,col2] = test.loc[:,col2].fillna(\"missing\")"
   ],
   "outputs": [],
   "metadata": {
    "collapsed": true
   }
  },
  {
   "cell_type": "code",
   "execution_count": 95,
   "source": [
    "train[\"row_nulls\"] = train.isnull().sum(axis=1)/float(train.shape[1])\n",
    "test[\"row_nulls\"] = test.isnull().sum(axis=1)/float(test.shape[1])\n",
    "train.fillna(1000,inplace=True)\n",
    "test.fillna(1000,inplace=True)"
   ],
   "outputs": [],
   "metadata": {
    "collapsed": true
   }
  },
  {
   "cell_type": "code",
   "execution_count": 96,
   "source": [
    "float_col = list(train.select_dtypes(include=['float64']).columns)"
   ],
   "outputs": [],
   "metadata": {
    "collapsed": true
   }
  },
  {
   "cell_type": "code",
   "execution_count": 97,
   "source": [
    "train[float_col] = train[float_col].astype(\"int64\")\n",
    "test[float_col] = test[float_col].astype(\"int64\")"
   ],
   "outputs": [],
   "metadata": {
    "collapsed": true
   }
  },
  {
   "cell_type": "code",
   "execution_count": 98,
   "source": [
    "train.head(3)"
   ],
   "outputs": [
    {
     "output_type": "execute_result",
     "data": {
      "text/plain": [
       "   AA3  AA4   AA5   AA6     AA7  AA14  AA15   DG1  is_female  DG3    ...      \\\n",
       "0    3   32     3  1000  323011  3854   481  1975          1    3    ...       \n",
       "1    2   26  1000     8  268131  2441   344  1981          1    8    ...       \n",
       "2    1   16  1000     7  167581   754   143  1995          1    3    ...       \n",
       "\n",
       "   LN2_3  LN2_4  LN2_RIndLngBEOth  LN2_WIndLngBEOth   GN1  GN2  GN3  GN4  GN5  \\\n",
       "0      1      1           missing           missing    99   99   99   99   99   \n",
       "1      3      4           Bengali           Bengali  1000    1    2    2    2   \n",
       "2      2      2             Hindi             Hindi     1    2    2    2    2   \n",
       "\n",
       "   row_nulls  \n",
       "0          0  \n",
       "1          0  \n",
       "2          0  \n",
       "\n",
       "[3 rows x 701 columns]"
      ],
      "text/html": [
       "<div>\n",
       "<style>\n",
       "    .dataframe thead tr:only-child th {\n",
       "        text-align: right;\n",
       "    }\n",
       "\n",
       "    .dataframe thead th {\n",
       "        text-align: left;\n",
       "    }\n",
       "\n",
       "    .dataframe tbody tr th {\n",
       "        vertical-align: top;\n",
       "    }\n",
       "</style>\n",
       "<table border=\"1\" class=\"dataframe\">\n",
       "  <thead>\n",
       "    <tr style=\"text-align: right;\">\n",
       "      <th></th>\n",
       "      <th>AA3</th>\n",
       "      <th>AA4</th>\n",
       "      <th>AA5</th>\n",
       "      <th>AA6</th>\n",
       "      <th>AA7</th>\n",
       "      <th>AA14</th>\n",
       "      <th>AA15</th>\n",
       "      <th>DG1</th>\n",
       "      <th>is_female</th>\n",
       "      <th>DG3</th>\n",
       "      <th>...</th>\n",
       "      <th>LN2_3</th>\n",
       "      <th>LN2_4</th>\n",
       "      <th>LN2_RIndLngBEOth</th>\n",
       "      <th>LN2_WIndLngBEOth</th>\n",
       "      <th>GN1</th>\n",
       "      <th>GN2</th>\n",
       "      <th>GN3</th>\n",
       "      <th>GN4</th>\n",
       "      <th>GN5</th>\n",
       "      <th>row_nulls</th>\n",
       "    </tr>\n",
       "  </thead>\n",
       "  <tbody>\n",
       "    <tr>\n",
       "      <th>0</th>\n",
       "      <td>3</td>\n",
       "      <td>32</td>\n",
       "      <td>3</td>\n",
       "      <td>1000</td>\n",
       "      <td>323011</td>\n",
       "      <td>3854</td>\n",
       "      <td>481</td>\n",
       "      <td>1975</td>\n",
       "      <td>1</td>\n",
       "      <td>3</td>\n",
       "      <td>...</td>\n",
       "      <td>1</td>\n",
       "      <td>1</td>\n",
       "      <td>missing</td>\n",
       "      <td>missing</td>\n",
       "      <td>99</td>\n",
       "      <td>99</td>\n",
       "      <td>99</td>\n",
       "      <td>99</td>\n",
       "      <td>99</td>\n",
       "      <td>0</td>\n",
       "    </tr>\n",
       "    <tr>\n",
       "      <th>1</th>\n",
       "      <td>2</td>\n",
       "      <td>26</td>\n",
       "      <td>1000</td>\n",
       "      <td>8</td>\n",
       "      <td>268131</td>\n",
       "      <td>2441</td>\n",
       "      <td>344</td>\n",
       "      <td>1981</td>\n",
       "      <td>1</td>\n",
       "      <td>8</td>\n",
       "      <td>...</td>\n",
       "      <td>3</td>\n",
       "      <td>4</td>\n",
       "      <td>Bengali</td>\n",
       "      <td>Bengali</td>\n",
       "      <td>1000</td>\n",
       "      <td>1</td>\n",
       "      <td>2</td>\n",
       "      <td>2</td>\n",
       "      <td>2</td>\n",
       "      <td>0</td>\n",
       "    </tr>\n",
       "    <tr>\n",
       "      <th>2</th>\n",
       "      <td>1</td>\n",
       "      <td>16</td>\n",
       "      <td>1000</td>\n",
       "      <td>7</td>\n",
       "      <td>167581</td>\n",
       "      <td>754</td>\n",
       "      <td>143</td>\n",
       "      <td>1995</td>\n",
       "      <td>1</td>\n",
       "      <td>3</td>\n",
       "      <td>...</td>\n",
       "      <td>2</td>\n",
       "      <td>2</td>\n",
       "      <td>Hindi</td>\n",
       "      <td>Hindi</td>\n",
       "      <td>1</td>\n",
       "      <td>2</td>\n",
       "      <td>2</td>\n",
       "      <td>2</td>\n",
       "      <td>2</td>\n",
       "      <td>0</td>\n",
       "    </tr>\n",
       "  </tbody>\n",
       "</table>\n",
       "<p>3 rows × 701 columns</p>\n",
       "</div>"
      ]
     },
     "metadata": {},
     "execution_count": 98
    }
   ],
   "metadata": {}
  },
  {
   "cell_type": "code",
   "execution_count": 99,
   "source": [
    "col = list(train.select_dtypes(include=['object','int64']).columns)\n",
    "v = (train[col].apply(lambda x: x.nunique(), axis=0)>3).reset_index()\n",
    "col_filtered = list(v.loc[(v.iloc[:,1]==True),'index'])\n",
    "u = (train[col_filtered].nunique()<11).reset_index()\n",
    "col_filtered = list(u.loc[(u.iloc[:,1]==True),'index'])"
   ],
   "outputs": [],
   "metadata": {
    "collapsed": true
   }
  },
  {
   "cell_type": "markdown",
   "source": [
    "### Target mean encoding on col_filtered "
   ],
   "metadata": {}
  },
  {
   "cell_type": "code",
   "execution_count": 100,
   "source": [
    "def mean_encoding(df, test, col):\n",
    "    for item in col:\n",
    "        mean_device_type = df.groupby(item).is_female.mean()\n",
    "        test[item+\"_mean_enc\"] = test[item].map(mean_device_type)\n",
    "        df[item+\"_mean_enc\"] = df[item].map(mean_device_type)\n",
    "    return df,test"
   ],
   "outputs": [],
   "metadata": {
    "collapsed": true
   }
  },
  {
   "cell_type": "code",
   "execution_count": 101,
   "source": [
    "def process_data(train,test):\n",
    "    combine = pd.concat([train,test])\n",
    "    object_cols = list(test.select_dtypes(include=['object','category']).columns)\n",
    "    for c in object_cols:\n",
    "        combine[c] = combine[c].astype('category').cat.codes+1  \n",
    "    train = combine.iloc[:train.shape[0],]\n",
    "    test = combine.iloc[train.shape[0]:,]\n",
    "    return train,test"
   ],
   "outputs": [],
   "metadata": {
    "collapsed": true
   }
  },
  {
   "cell_type": "code",
   "execution_count": 102,
   "source": [
    "train,test = mean_encoding(train, test, col_filtered)\n",
    "train,test = process_data(train,test)"
   ],
   "outputs": [],
   "metadata": {
    "collapsed": true
   }
  },
  {
   "cell_type": "code",
   "execution_count": 103,
   "source": [
    "global_mean = train.is_female.mean()\n",
    "test.fillna(global_mean, inplace=True)"
   ],
   "outputs": [],
   "metadata": {
    "collapsed": true
   }
  },
  {
   "cell_type": "code",
   "execution_count": 104,
   "source": [
    "del test['is_female']\n",
    "test.head(3), train.shape"
   ],
   "outputs": [
    {
     "output_type": "execute_result",
     "data": {
      "text/plain": [
       "(   AA14  AA15  AA3  AA3_mean_enc  AA4   AA5  AA5_mean_enc   AA6  AA6_mean_enc  \\\n",
       " 0  4479   535    4      0.541462   41  1000      0.538803     7      0.534333   \n",
       " 1  3803   476    3      0.476144   32     2      0.524664  1000      0.533345   \n",
       " 2  5610   585    3      0.476144   36     5      0.528686  1000      0.533345   \n",
       " \n",
       "       AA7    ...      MT6B  MT6B_mean_enc  MT6C  MT6_mean_enc   MT7  MT7A  \\\n",
       " 0  417211    ...      1000       0.701275  1000      0.701275     2  1000   \n",
       " 1  322011    ...         1       0.363453     0      0.179292  1000  1000   \n",
       " 2  365011    ...      1000       0.701275  1000      0.701275     2  1000   \n",
       " \n",
       "    MT7A_mean_enc   MT8   MT9  row_nulls  \n",
       " 0       0.488904  1000    12          0  \n",
       " 1       0.488904  1000  1000          0  \n",
       " 2       0.488904  1000    13          0  \n",
       " \n",
       " [3 rows x 888 columns], (18255, 889))"
      ]
     },
     "metadata": {},
     "execution_count": 104
    }
   ],
   "metadata": {}
  },
  {
   "cell_type": "code",
   "execution_count": 105,
   "source": [
    "# mn.bar(test)"
   ],
   "outputs": [],
   "metadata": {
    "collapsed": true
   }
  },
  {
   "cell_type": "code",
   "execution_count": 106,
   "source": [
    "# train_filled_knn = KNN(k=3).complete(train)\n",
    "# train_filled_knn = pd.DataFrame(train_filled_knn, columns=train.columns, index = train.index)\n",
    "# train_filled_knn.shape"
   ],
   "outputs": [],
   "metadata": {
    "collapsed": true
   }
  },
  {
   "cell_type": "code",
   "execution_count": 107,
   "source": [
    "# test_filled_knn = KNN(k=3).complete(test)\n",
    "# test_filled_knn = pd.DataFrame(test_filled_knn, columns=test.columns, index = test.index)\n",
    "# test_filled_knn.shape"
   ],
   "outputs": [],
   "metadata": {
    "collapsed": true
   }
  },
  {
   "cell_type": "code",
   "execution_count": 2,
   "source": [
    "from sklearn.ensemble import RandomForestRegressor, RandomForestClassifier\n",
    "from sklearn import metrics\n",
    "from sklearn.model_selection import train_test_split"
   ],
   "outputs": [],
   "metadata": {}
  },
  {
   "cell_type": "code",
   "execution_count": 3,
   "source": [
    "train = pd.read_csv(\"train_afterbin.csv\")\n",
    "test = pd.read_csv(\"test_afterbin.csv\")"
   ],
   "outputs": [],
   "metadata": {}
  },
  {
   "cell_type": "code",
   "execution_count": 4,
   "source": [
    "y = train['is_female']\n",
    "X = train.drop(['is_female'], axis = 1)\n",
    "X_train, X_val, y_train, y_val = train_test_split(X, y, test_size=0.20, random_state=10)"
   ],
   "outputs": [],
   "metadata": {}
  },
  {
   "cell_type": "code",
   "execution_count": 110,
   "source": [
    "def auc(m, train, val): \n",
    "    return (metrics.roc_auc_score(y_train,m.predict_proba(train)[:,1]),\n",
    "                            metrics.roc_auc_score(y_val,m.predict_proba(val)[:,1]))"
   ],
   "outputs": [],
   "metadata": {
    "collapsed": true
   }
  },
  {
   "cell_type": "markdown",
   "source": [
    "### Parameter Tuning Random Search XGBoost"
   ],
   "metadata": {}
  },
  {
   "cell_type": "code",
   "execution_count": 112,
   "source": [
    "# model = xgb.XGBClassifier()\n",
    "# param_dist = {\"max_depth\": [15, 20, 25,30],\n",
    "#               \"min_child_weight\" : [3,5,10]}\n",
    "\n",
    "# # run randomized search\n",
    "# n_iter_search = 10\n",
    "# random_search = RandomizedSearchCV(model, param_distributions=param_dist, cv = 4, \n",
    "#                                    n_iter=n_iter_search,verbose=1, n_jobs=-1)\n",
    "# random_search.fit(X_train, y_train)\n",
    "# random_search.best_estimator_"
   ],
   "outputs": [],
   "metadata": {}
  },
  {
   "cell_type": "markdown",
   "source": [
    "### Fitting Final Model XGBoost"
   ],
   "metadata": {}
  },
  {
   "cell_type": "code",
   "execution_count": null,
   "source": [
    "#model = xgb.XGBClassifier(max_depth=20, min_child_weight=8,  n_estimators=100, n_jobs=-1 )\n",
    "\n",
    "\n",
    "\n",
    "#model.fit(X_train,y_train)\n",
    "\n",
    "#auc(model, X_train, X_val)"
   ],
   "outputs": [],
   "metadata": {}
  },
  {
   "cell_type": "code",
   "execution_count": 5,
   "source": [
    "#model = xgb.XGBClassifier(max_depth=20, min_child_weight=8,  n_estimators=100)\n",
    "model = xgb.XGBClassifier(max_depth=6, min_child_weight=1.36,  n_estimators=540, colsample_bytree= 0.6, gamma= 0.05, subsample=1, learning_rate=0.05)\n",
    "#model.fit(X_train,y_train)\n",
    "#colsample_bytree\n",
    "#Depth: 6 Eta: 0.05 Subsample: 1 Colsample: 0.6 Gamma: 0.05 Minchild weight: 1.36 Alpha: 0\"\n",
    "#auc(model, X_train, X_val)\n",
    "\n",
    "#(0.9990936995241299, 0.9711375605506248)\n",
    "#model = xgb.XGBClassifier(max_depth=6, min_child_weight=1.36,  n_estimators=540, colsample_bytree= 0.6, gamma= 0.05, subsample=1, learning_rate=0.05)"
   ],
   "outputs": [],
   "metadata": {}
  },
  {
   "cell_type": "code",
   "execution_count": 6,
   "source": [
    "model.fit(X,y)\n",
    "pred = model.predict_proba(test)"
   ],
   "outputs": [],
   "metadata": {}
  },
  {
   "cell_type": "code",
   "execution_count": 7,
   "source": [
    "submit = pd.DataFrame()\n",
    "submit['test_id'] = id\n",
    "submit['is_female'] = pred[:,1]\n",
    "submit.to_csv(\"Submission_xgboost.csv\", index=False)"
   ],
   "outputs": [],
   "metadata": {}
  },
  {
   "cell_type": "code",
   "execution_count": 114,
   "source": [
    "# test.loc[:,'is_female'] = pred[:,1]\n",
    "# test.loc[(test['DL2_96_OTHERS']==\"House wife\"),'is_female']\n",
    "# test['DL2_96_OTHERS']==\"House wife\"\n",
    "# (train[col_filtered].nunique()>10).reset_index()"
   ],
   "outputs": [],
   "metadata": {
    "collapsed": true
   }
  },
  {
   "cell_type": "code",
   "execution_count": null,
   "source": [],
   "outputs": [],
   "metadata": {
    "collapsed": true
   }
  },
  {
   "cell_type": "markdown",
   "source": [
    "### Catboost Classifier - Base model"
   ],
   "metadata": {
    "collapsed": true
   }
  },
  {
   "cell_type": "code",
   "execution_count": 64,
   "source": [
    "cate_features_index = np.where(X.dtypes != float)[0]"
   ],
   "outputs": [],
   "metadata": {}
  },
  {
   "cell_type": "code",
   "execution_count": 116,
   "source": [
    "# train default catBoost classifier. Default loss metric is LogLoss (lower is better)\n",
    "clf = CatBoostClassifier(eval_metric=\"AUC\",one_hot_max_size=6, iterations=400)"
   ],
   "outputs": [],
   "metadata": {}
  },
  {
   "cell_type": "code",
   "execution_count": null,
   "source": [
    "# clf.fit(X,Y , cat_features=cat_dims)\n",
    "clf.fit(X_train,y_train, cat_features=cate_features_index)"
   ],
   "outputs": [],
   "metadata": {
    "collapsed": true
   }
  },
  {
   "cell_type": "code",
   "execution_count": 86,
   "source": [
    "auc(clf, X_train, X_val)"
   ],
   "outputs": [
    {
     "output_type": "execute_result",
     "data": {
      "text/plain": [
       "(0.9753617349262516, 0.9690407385145595)"
      ]
     },
     "metadata": {},
     "execution_count": 86
    }
   ],
   "metadata": {
    "scrolled": true
   }
  },
  {
   "cell_type": "code",
   "execution_count": null,
   "source": [
    "clf.fit(X,y, cat_features=cate_features_index)"
   ],
   "outputs": [],
   "metadata": {
    "collapsed": true
   }
  },
  {
   "cell_type": "code",
   "execution_count": 118,
   "source": [
    "pred = clf.predict_proba(test)"
   ],
   "outputs": [],
   "metadata": {}
  },
  {
   "cell_type": "code",
   "execution_count": 119,
   "source": [
    "submit = pd.DataFrame()\n",
    "submit['test_id'] = id\n",
    "submit['is_female'] = pred[:,1]\n",
    "submit.to_csv(\"Submission_base_Cat.csv\", index=False)"
   ],
   "outputs": [],
   "metadata": {
    "collapsed": true
   }
  },
  {
   "cell_type": "markdown",
   "source": [
    "### Parameter Tuning"
   ],
   "metadata": {
    "collapsed": true
   }
  },
  {
   "cell_type": "code",
   "execution_count": 164,
   "source": [
    "from sortedcontainers import SortedList\n",
    "import copy\n",
    "import collections\n",
    "import numpy as np\n",
    "from itertools import product,chain\n",
    "import pandas\n",
    "from sklearn.model_selection import KFold\n",
    "import catboost as cb\n",
    "\n",
    "''' a class for doing grid search on a set of parameters provided in a dict. 'pdict' should be a dictionary like the following:\n",
    "pdict = {'depth':[1,2], 'iterations':[250,100,500], 'thread_count':4}\n",
    "\n",
    "when grid_search is called it will return an iterator that provides samples from the dictionary e.g.\n",
    "{'depth':1, 'iterations':250, 'thread_count':4}\n",
    "{'depth':2, 'iterations':250, 'thread_count':4}\n",
    "{'depth':1, 'iterations':100, 'thread_count':4}\n",
    "etc.\n",
    "after calling an iteration of grid_search, you need to test the classifier and run 'register_result'\n",
    "This will update the internal list of results, so that the next call to grid_search will use the best\n",
    "parameters for all the parameters not currently being updated.\n",
    "\n",
    "grid_search can be provided a list e.g. grid_search(['depth']) this will use the current best parameters for all\n",
    "the other arguments and only search over 'depth'. You can then call e.g. grid_search(['iterations']) and it will use\n",
    "the best depth found previously and cycle through all the 'iterations'. Searching incrementally can be much faster\n",
    "than doing a full grid search, but may miss the global optimum. '''\n",
    "class paramsearch:\n",
    "    def __init__(self,pdict):    \n",
    "        self.pdict = {}\n",
    "        # if something is not passed in as a sequence, make it a sequence with 1 element\n",
    "        #   don't treat strings as sequences\n",
    "        for a,b in pdict.items():\n",
    "            if isinstance(b, collections.Sequence) and not isinstance(b, str): self.pdict[a] = b\n",
    "            else: self.pdict[a] = [b]\n",
    "        # our results are a sorted list, so the best score is always the final element\n",
    "        self.results = SortedList()       \n",
    "                    \n",
    "    def grid_search(self,keys=None):\n",
    "        # do grid search on only the keys listed. If none provided, do all\n",
    "        if keys==None: keylist = self.pdict.keys()\n",
    "        else: keylist = keys\n",
    " \n",
    "        listoflists = [] # this will be list of lists of key,value pairs\n",
    "        for key in keylist: listoflists.append([(key,i) for i in self.pdict[key]])\n",
    "        for p in product(*listoflists):\n",
    "            # do any changes to the current best parameter set\n",
    "            if len(self.results)>0: template = self.results[-1][1]\n",
    "            else: template = {a:b[0] for a,b in self.pdict.items()}\n",
    "            # if our updates are the same as current best, don't bother\n",
    "            if self.equaldict(dict(p),template): continue\n",
    "            # take the current best and update just the ones to change\n",
    "            yield self.overwritedict(dict(p),template)\n",
    "                              \n",
    "    def equaldict(self,a,b):\n",
    "        for key in a.keys(): \n",
    "            if a[key] != b[key]: return False\n",
    "        return True            \n",
    "                              \n",
    "    def overwritedict(self,new,old):\n",
    "        old = copy.deepcopy(old)\n",
    "        for key in new.keys(): old[key] = new[key]\n",
    "        return old            \n",
    "    \n",
    "    # save a (score,params) pair to results. Since 'results' is a sorted list,\n",
    "    #   the best score is always the final element. A small amount of noise is added\n",
    "    #   because sorted lists don't like it when two scores are exactly the same    \n",
    "    def register_result(self,result,params):\n",
    "        self.results.add((result+np.random.randn()*1e-10,params))    \n",
    "        \n",
    "    def bestscore(self):\n",
    "        return self.results[-1][0]\n",
    "        \n",
    "    def bestparam(self):\n",
    "        return self.results[-1][1]"
   ],
   "outputs": [],
   "metadata": {
    "collapsed": true
   }
  },
  {
   "cell_type": "code",
   "execution_count": 165,
   "source": [
    "params = {'depth':[2,5,10],\n",
    "          'iterations':[100],\n",
    "          'learning_rate':[0.03,0.6,0.3], \n",
    "          'l2_leaf_reg':[1,5,30]}"
   ],
   "outputs": [],
   "metadata": {
    "collapsed": true
   }
  },
  {
   "cell_type": "code",
   "execution_count": 166,
   "source": [
    "# this function does 3-fold crossvalidation with catboostclassifier          \n",
    "def crossvaltest(params,train_set,train_label,cat_dims,n_splits=3):\n",
    "    kf = KFold(n_splits=n_splits,shuffle=True) \n",
    "    res = []\n",
    "    for train_index, test_index in kf.split(train_set):\n",
    "        train = train_set.iloc[train_index,:]\n",
    "        test = train_set.iloc[test_index,:]\n",
    "\n",
    "        labels = train_label.ix[train_index]\n",
    "        test_labels = train_label.ix[test_index]\n",
    "\n",
    "        clf = cb.CatBoostClassifier(**params)\n",
    "        clf.fit(train, np.ravel(labels), cat_features=cat_dims)\n",
    "\n",
    "        res.append(np.mean(clf.predict(test)==np.ravel(test_labels)))\n",
    "    return np.mean(res)"
   ],
   "outputs": [],
   "metadata": {
    "collapsed": true
   }
  },
  {
   "cell_type": "code",
   "execution_count": null,
   "source": [
    "# this function runs grid search on several parameters\n",
    "def catboost_param_tune(params,train_set,train_label,cat_dims=None,n_splits=3):\n",
    "    ps = paramsearch(params)\n",
    "    # search 'border_count', 'l2_leaf_reg' etc. individually \n",
    "    #   but 'iterations','learning_rate' together\n",
    "    for prms in chain(ps.grid_search(['l2_leaf_reg']),\n",
    "                      ps.grid_search(['iterations','learning_rate']),\n",
    "                      ps.grid_search(['depth'])):\n",
    "        res = crossvaltest(prms,train_set,train_label,cat_dims,n_splits)\n",
    "        # save the crossvalidation result so that future iterations can reuse the best parameters\n",
    "        ps.register_result(res,prms)\n",
    "        print(res,prms,'best:',ps.bestscore(),ps.bestparam())\n",
    "    return ps.bestparam()\n",
    "\n",
    "bestparams = catboost_param_tune(params,X_train,y_train,cat_dims =cate_features_index)"
   ],
   "outputs": [],
   "metadata": {}
  },
  {
   "cell_type": "code",
   "execution_count": 169,
   "source": [
    "bestparams"
   ],
   "outputs": [
    {
     "output_type": "execute_result",
     "data": {
      "text/plain": [
       "{'depth': 10, 'iterations': 100, 'l2_leaf_reg': 5, 'learning_rate': 0.6}"
      ]
     },
     "metadata": {},
     "execution_count": 169
    }
   ],
   "metadata": {}
  },
  {
   "cell_type": "code",
   "execution_count": null,
   "source": [
    "clf = CatBoostClassifier(eval_metric=\"AUC\",one_hot_max_size=11, \\\n",
    "                        depth=10, iterations= 300, l2_leaf_reg= 5, learning_rate= 0.08)\n",
    "clf.fit(X_train,y_train, cat_features=cate_features_index)\n",
    "auc(clf, X_train, X_val)"
   ],
   "outputs": [],
   "metadata": {}
  },
  {
   "cell_type": "code",
   "execution_count": null,
   "source": [
    "clf.fit(X,y, cat_features=cate_features_index)\n",
    "pred = clf.predict_proba(test)"
   ],
   "outputs": [],
   "metadata": {}
  },
  {
   "cell_type": "code",
   "execution_count": 176,
   "source": [
    "submit = pd.DataFrame()\n",
    "submit['test_id'] = id\n",
    "submit['is_female'] = pred[:,1]\n",
    "submit.to_csv(\"Submission_tuned_Cat.csv\", index=False)"
   ],
   "outputs": [],
   "metadata": {
    "collapsed": true
   }
  },
  {
   "cell_type": "code",
   "execution_count": 177,
   "source": [
    "pred_mean = (pred[:,1] + pd.read_csv(\"Submission_xgboost.csv\")['is_female'])/2"
   ],
   "outputs": [],
   "metadata": {
    "collapsed": true
   }
  },
  {
   "cell_type": "code",
   "execution_count": 183,
   "source": [
    "submit['is_female'] = pred_mean\n",
    "submit.to_csv(\"FirstEnsemble.csv\", index=False)"
   ],
   "outputs": [],
   "metadata": {}
  },
  {
   "cell_type": "code",
   "execution_count": 184,
   "source": [
    "pred_mean3 = (pred[:,1] + pd.read_csv(\"Submission_xgboost.csv\")['is_female'] +\\\n",
    "             pd.read_csv(\"Submission_base_Cat.csv\")['is_female'])/3\n",
    "submit['is_female'] = pred_mean3\n",
    "submit.to_csv(\"SecondEnsemble.csv\", index=False)"
   ],
   "outputs": [],
   "metadata": {}
  },
  {
   "cell_type": "markdown",
   "source": [
    "### Random Forest"
   ],
   "metadata": {
    "collapsed": true
   }
  },
  {
   "cell_type": "code",
   "execution_count": 55,
   "source": [
    "m = RandomForestClassifier(n_estimators=200, max_features= 100,min_samples_leaf=8, max_depth=80)\n",
    "m.fit(X_train, y_train)\n",
    "auc(m, X_train, X_val)"
   ],
   "outputs": [
    {
     "output_type": "execute_result",
     "data": {
      "text/plain": [
       "(0.9899227020756343, 0.9648185150889961)"
      ]
     },
     "metadata": {},
     "execution_count": 55
    }
   ],
   "metadata": {}
  },
  {
   "cell_type": "code",
   "execution_count": null,
   "source": [
    "m.fit(X,y)\n",
    "pred = m.predict_proba(test)"
   ],
   "outputs": [],
   "metadata": {
    "collapsed": true
   }
  },
  {
   "cell_type": "code",
   "execution_count": null,
   "source": [
    "submit = pd.DataFrame()\n",
    "submit['test_id'] = id\n",
    "submit['is_female'] = pred[:,1]\n",
    "submit.to_csv(\"Submission_RF.csv\", index=False)"
   ],
   "outputs": [],
   "metadata": {
    "collapsed": true
   }
  },
  {
   "cell_type": "markdown",
   "source": [
    "### Logistic Regression after Normalizing"
   ],
   "metadata": {}
  },
  {
   "cell_type": "code",
   "execution_count": 21,
   "source": [
    "# scaler = StandardScaler()\n",
    "# scaler.fit(train_filled_knn.drop(['is_female'], axis =1))\n",
    "# scaled_train = scaler.transform(train_filled_knn.drop(['is_female'], axis =1))\n",
    "# scaled_test = scaler.transform(test_filled_knn)\n",
    "\n",
    "# scaled_train = pd.DataFrame(scaled_train, columns=train_filled_knn.drop(['is_female'], axis =1).columns, index=train_filled_knn.drop(['is_female'], axis =1).index)\n",
    "# scaled_test = pd.DataFrame(scaled_test, columns=test_filled_knn.columns, index=test_filled_knn.index)\n",
    "\n",
    "# scaled_train[\"is_female\"] =  train_filled_knn[\"is_female\"]\n",
    "# x_train ,x_val = train_test_split(scaled_train,test_size=0.2) \n",
    "\n",
    "# y_train = x_train[\"is_female\"]\n",
    "# del x_train[\"is_female\"]\n",
    "# y_valid = x_val['is_female']\n",
    "# del x_val['is_female']\n",
    "\n",
    "# def auclr(lr, train, val): \n",
    "#     return (metrics.roc_auc_score(y_train,lr.predict_proba(train)[:,1]),\n",
    "#                             metrics.roc_auc_score(y_valid,lr.predict_proba(val)[:,1]))\n",
    "# lr = LogisticRegression()\n",
    "# lr.fit(x_train, y_train)\n",
    "# auclr(lr, x_train, x_val)\n",
    "\n",
    "# y_train = scaled_train[\"is_female\"]\n",
    "# x_train = scaled_train.copy()\n",
    "# del x_train[\"is_female\"]\n",
    "# lr.fit(x_train, y_train)\n",
    "\n",
    "# submit = pd.DataFrame()\n",
    "# submit['test_id'] = id\n",
    "# submit['is_female'] = lr.predict_proba(scaled_test)[:,1]\n",
    "# submit.to_csv(\"Submission_LR.csv\", index=False)"
   ],
   "outputs": [],
   "metadata": {
    "collapsed": true
   }
  },
  {
   "cell_type": "code",
   "execution_count": null,
   "source": [],
   "outputs": [],
   "metadata": {}
  },
  {
   "cell_type": "code",
   "execution_count": null,
   "source": [],
   "outputs": [],
   "metadata": {
    "collapsed": true
   }
  }
 ],
 "metadata": {
  "kernelspec": {
   "display_name": "Python 3",
   "language": "python",
   "name": "python3"
  },
  "language_info": {
   "codemirror_mode": {
    "name": "ipython",
    "version": 3
   },
   "file_extension": ".py",
   "mimetype": "text/x-python",
   "name": "python",
   "nbconvert_exporter": "python",
   "pygments_lexer": "ipython3",
   "version": "3.6.4"
  }
 },
 "nbformat": 4,
 "nbformat_minor": 2
}